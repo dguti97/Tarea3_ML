{
 "cells": [
  {
   "cell_type": "markdown",
   "metadata": {},
   "source": [
    "<img src=\"http://www.exalumnos.usm.cl/wp-content/uploads/2015/06/Isotipo-Negro.gif\" title=\"Title text\" width=\"20%\" height=\"20%\" />\n",
    "\n",
    "\n",
    "<hr style=\"height:2px;border:none\"/>\n",
    "<h1 align='center'> INF-393 Máquinas de Aprendizaje II-2019 </h1>\n",
    "<h2 align='center'> Diego Gutierrez 201573558-1 </h2>\n",
    "<h2 align='center'> Maria Apolo 201573509-3 </h2>\n",
    "<H3 align='center'> Tarea 3 - Ensamblados y modelos avanzados </H3>\n",
    "<hr style=\"height:2px;border:none\"/>\n"
   ]
  },
  {
   "cell_type": "markdown",
   "metadata": {},
   "source": [
    "<a id=\"segundo\"></a>\n",
    "## 2. Detección de acoso en *Twitter*\n",
    "---\n",
    "En las redes sociales muchas veces se encuentra con un cierto comportamiento indeseable para los usuarios, tal como racismo, misógeno, grupos de odio o *trolls*. El poder detectar de manera automática ciertos patrones en el comportamiento para tomar una acción debe ser crucial para reducir el tiempo y esfuerzo humano. En esta actividad se trabajará sobre *tweets* la red social de *twitter* para detectar comportamiento *online* de acoso (*harassment*), que por lo general, incluye *flaming* como lenguaje abusivo o insultos, *doxing* como mostrar la información personal de una mujer, por ejemplo el domicilio o número de teléfono, la suplantación o la vergüenza pública por destruir la reputación de las personas.\n",
    "\n",
    "<img src=\"https://kidshelpline.com.au/sites/default/files/bdl_image/header-T-OH.png\" title=\"Title text\" width=\"45%\"  />\n",
    "\n",
    "En algunos problemas como este, el comportamiento a detectar puede ser asociado a una anomalía (*outlier*) del comportamiento normal de los usuarios en las redes sociales. Esto es una de las causas de la dificultad del problema, puesto que es **altamente desbalanceado**, donde aproximadamente un 10% de los *tweets* corresponden a acoso (*harassment*).\n",
    "\n",
    "Los datos trabajados corresponderan a *tweets* etiquetados como *harassment* (con valor 1) o no (con valor 0) -- la tarea a detectar--. Además si desea utilizar, se incluye la información del tipo de *harassment* en el conjunto de entrenamiento como atributos extras. El conjunto de pruebas solo contiene los *tweets* a ser etiquetados.\n",
    "\n",
    "---\n",
    "### Importante\n",
    "* Esta pregunta será evaluada **sólo** por los resultados (*submission*) obtenidos en el desafío presentado en __[Kaggle](https://www.kaggle.com/c/t1-ml/)__ a través del siguiente __[link](https://www.kaggle.com/t/91f8c0c746f945cfa510b88469df4d67)__. Las notas serán entregadas a través de la siguiente fórmula:  \n",
    "$$ Nota(i) = 100\\cdot max\\left(0.55; s^{(1-i)} \\right), \\ \\ con \\ \\ i \\in \\{1,\\ \\ldots, N\\}$$\n",
    "Con la escala de decaimiento es $ s = 1.05$ y con $i$ su lugar en el *ranking*.\n",
    "\n",
    "* La métrica de evaluación será el *f1 score* [[3]](#refs) sobre la clase positiva (*harassment*), así evaluar la calidad del modelo sobre la clase minoritaria, lo cual también debiera reflejar el desempeño de la clase negativa (al ser el complemento).\n",
    "```python\n",
    "from  sklearn.metrics import f1_score\n",
    "f1_score(y_test, y_pred, average='binary')\n",
    "```\n",
    "\n",
    "* El archivo de *submission* debe contener las predicciones de *harassment* (0 o 1) a cada dato de pruebas, además de la columna de *id* asociado al dato, iniciando en 1. Si leyó de manera ordenada el archivo de pruebas, se puede generar de la siguiente manera:\n",
    "```python\n",
    "df_aux = pd.DataFrame()\n",
    "df_aux[\"id\"] = np.arange(1, 1+y_pred.shape[0])\n",
    "df_aux[\"harassment\"] = y_pred.astype('int')\n",
    "df_aux.to_csv(\"test_estimation.csv\", index=False)\n",
    "```\n",
    "\n",
    "* Se solicita realizar **un solo** *submission* por grupo, para no perjudicar la nota de sus compañeros en el *ranking*. Además de ser claros con sus nombres de entrega para no asignarles de manera errónea su correspondiente nota.\n",
    "\n",
    "* **Si no realiza *submission* a Kaggle su nota en esta sección será de 0**.\n",
    "\n",
    "* **Si su *score* alcanzado es menor o igual al *benchmark* random que se encuentra en el *ranking*, su nota en esta sección será de 25**"
   ]
  },
  {
   "cell_type": "code",
   "execution_count": 1,
   "metadata": {},
   "outputs": [],
   "source": [
    "from sklearn.tree import DecisionTreeClassifier as Tree\n",
    "from sklearn.ensemble import BaggingClassifier\n",
    "import pandas as pd\n",
    "import numpy as np\n",
    "from sklearn.feature_extraction.text import CountVectorizer\n",
    "from sklearn.model_selection import train_test_split\n",
    "from sklearn.ensemble import RandomForestClassifier\n",
    "import matplotlib.pyplot as plt\n",
    "from sklearn.svm import SVC as SVM #SVC is for classification\n",
    "from sklearn.metrics import accuracy_score"
   ]
  },
  {
   "cell_type": "code",
   "execution_count": 2,
   "metadata": {},
   "outputs": [
    {
     "data": {
      "text/html": [
       "<div>\n",
       "<style scoped>\n",
       "    .dataframe tbody tr th:only-of-type {\n",
       "        vertical-align: middle;\n",
       "    }\n",
       "\n",
       "    .dataframe tbody tr th {\n",
       "        vertical-align: top;\n",
       "    }\n",
       "\n",
       "    .dataframe thead th {\n",
       "        text-align: right;\n",
       "    }\n",
       "</style>\n",
       "<table border=\"1\" class=\"dataframe\">\n",
       "  <thead>\n",
       "    <tr style=\"text-align: right;\">\n",
       "      <th></th>\n",
       "      <th>id</th>\n",
       "      <th>tweet_content</th>\n",
       "      <th>harassment</th>\n",
       "      <th>IndirectH</th>\n",
       "      <th>PhysicalH</th>\n",
       "      <th>SexualH</th>\n",
       "    </tr>\n",
       "  </thead>\n",
       "  <tbody>\n",
       "    <tr>\n",
       "      <th>0</th>\n",
       "      <td>9565</td>\n",
       "      <td>also released this video of photos voyager too...</td>\n",
       "      <td>0</td>\n",
       "      <td>0</td>\n",
       "      <td>0</td>\n",
       "      <td>0</td>\n",
       "    </tr>\n",
       "    <tr>\n",
       "      <th>1</th>\n",
       "      <td>6794</td>\n",
       "      <td>Yeah sexting older games until x89 teach doug...</td>\n",
       "      <td>0</td>\n",
       "      <td>0</td>\n",
       "      <td>0</td>\n",
       "      <td>0</td>\n",
       "    </tr>\n",
       "    <tr>\n",
       "      <th>2</th>\n",
       "      <td>4337</td>\n",
       "      <td>ava There s likely hundreds of stories like t...</td>\n",
       "      <td>0</td>\n",
       "      <td>0</td>\n",
       "      <td>0</td>\n",
       "      <td>0</td>\n",
       "    </tr>\n",
       "    <tr>\n",
       "      <th>3</th>\n",
       "      <td>6621</td>\n",
       "      <td>Wonder if there is significance to having Ava ...</td>\n",
       "      <td>0</td>\n",
       "      <td>0</td>\n",
       "      <td>0</td>\n",
       "      <td>0</td>\n",
       "    </tr>\n",
       "    <tr>\n",
       "      <th>4</th>\n",
       "      <td>3289</td>\n",
       "      <td>i m a slut for guacamole an avocadhoe if you will</td>\n",
       "      <td>0</td>\n",
       "      <td>0</td>\n",
       "      <td>0</td>\n",
       "      <td>0</td>\n",
       "    </tr>\n",
       "  </tbody>\n",
       "</table>\n",
       "</div>"
      ],
      "text/plain": [
       "     id                                      tweet_content  harassment  \\\n",
       "0  9565  also released this video of photos voyager too...           0   \n",
       "1  6794   Yeah sexting older games until x89 teach doug...           0   \n",
       "2  4337   ava There s likely hundreds of stories like t...           0   \n",
       "3  6621  Wonder if there is significance to having Ava ...           0   \n",
       "4  3289  i m a slut for guacamole an avocadhoe if you will           0   \n",
       "\n",
       "   IndirectH  PhysicalH  SexualH  \n",
       "0          0          0        0  \n",
       "1          0          0        0  \n",
       "2          0          0        0  \n",
       "3          0          0        0  \n",
       "4          0          0        0  "
      ]
     },
     "execution_count": 2,
     "metadata": {},
     "output_type": "execute_result"
    }
   ],
   "source": [
    "df = pd.read_csv(\"Train_data.csv\")\n",
    "df_test = pd.read_csv(\"Test_input.csv\")\n",
    "\n",
    "df.head()"
   ]
  },
  {
   "cell_type": "code",
   "execution_count": 3,
   "metadata": {},
   "outputs": [
    {
     "name": "stdout",
     "output_type": "stream",
     "text": [
      "El porcentaje de tweets que corresponden a harassment es de:  9.62651236191478\n"
     ]
    }
   ],
   "source": [
    "cant_har = len(df[df.harassment == 1])\n",
    "cant_no_har = len(df[df.harassment == 0])\n",
    "perc_har = (cant_har/(cant_har + cant_no_har))*100\n",
    "print(\"El porcentaje de tweets que corresponden a harassment es de: \", perc_har)"
   ]
  },
  {
   "cell_type": "markdown",
   "metadata": {},
   "source": [
    "Se puede observar que se cuenta con un dataframe desbalanceado, ya que se poseen menos tweets que corresponden a harassment que tweets que sí. Esto podría conllevar problemas posteriores en el entrenamiento, dado que se tiene menos cantidad de datos con harassment para aprender de ellos. "
   ]
  },
  {
   "cell_type": "code",
   "execution_count": 4,
   "metadata": {},
   "outputs": [],
   "source": [
    "X = df.tweet_content \n",
    "Y = df.harassment\n",
    "\n",
    "X_train, X_val, Y_train, Y_val = train_test_split(X, Y,test_size= 0.3, random_state=0)\n",
    "train_tweets = [tweets for tweets in X_train]\n",
    "val_tweets = [tweets for tweets in X_val]\n",
    "\n"
   ]
  },
  {
   "cell_type": "code",
   "execution_count": 6,
   "metadata": {},
   "outputs": [],
   "source": [
    "vectorizer1 = CountVectorizer(ngram_range=(1, 1), binary=False)\n",
    "vectorizer1.fit(train_tweets)\n",
    "features_train = vectorizer1.transform(train_tweets)\n",
    "features_val = vectorizer1.transform(val_tweets)"
   ]
  },
  {
   "cell_type": "code",
   "execution_count": 12,
   "metadata": {},
   "outputs": [
    {
     "data": {
      "image/png": "[encoded data removed]",
      "text/plain": [
       "<Figure size 432x288 with 1 Axes>"
      ]
     },
     "metadata": {
      "needs_background": "light"
     },
     "output_type": "display_data"
    },
    {
     "name": "stdout",
     "output_type": "stream",
     "text": [
      "El numero de estimadores con mejor resultado para Bagging Regularizado es [61]\n",
      "El accuracy maximo usando Bagging Regularizado es de 0.9199298655756867\n"
     ]
    },
    {
     "data": {
      "image/png": "[encoded data removed]",
      "text/plain": [
       "<Figure size 432x288 with 1 Axes>"
      ]
     },
     "metadata": {
      "needs_background": "light"
     },
     "output_type": "display_data"
    },
    {
     "name": "stdout",
     "output_type": "stream",
     "text": [
      "El numero de estimadores con mejor resultado para Bagging No Regularizado es [31 41]\n",
      "El accuracy maximo usando Bagging No regularizado es de 0.9187609585037989\n"
     ]
    }
   ],
   "source": [
    "n_estim = np.arange(start=1, stop=100, step=10)\n",
    "arr_val = []\n",
    "arr_val2 = []\n",
    "for i in n_estim:\n",
    "    #MODELO REGULARIZADO\n",
    "    model_r = BaggingClassifier(base_estimator = Tree(max_depth=13,min_samples_split=2,min_samples_leaf=1), n_estimators = i, n_jobs = -1, random_state = 0)\n",
    "    model_r.fit(features_train,Y_train)\n",
    "    y_val_hat = model_r.predict(features_val)\n",
    "    acc_val=accuracy_score(Y_val,y_val_hat)\n",
    "    arr_val.append(acc_val)\n",
    "    #MODELO NO REGULARIZADO\n",
    "    model_unr = BaggingClassifier(base_estimator = Tree(), n_estimators = i, n_jobs = -1, random_state = 0)\n",
    "    model_unr.fit(features_train,Y_train)\n",
    "    y_val2_hat = model_unr.predict(features_val)\n",
    "    acc_val2=accuracy_score(Y_val,y_val2_hat)\n",
    "    arr_val2.append(acc_val2)\n",
    "\n",
    "plt.plot(n_estim,arr_val, c= 'b', label='Validation')\n",
    "plt.legend()\n",
    "plt.title(\"Regularizado\")\n",
    "plt.show()\n",
    "result = np.where(arr_val == np.amax(arr_val))\n",
    "print(\"El numero de estimadores con mejor resultado para Bagging Regularizado es\",result[0]*10+1)\n",
    "print(\"El accuracy maximo usando Bagging Regularizado es de\",max(arr_val))\n",
    "\n",
    "plt.plot(n_estim,arr_val2, c= 'b', label='Validation')\n",
    "plt.legend()\n",
    "plt.title(\"No regularizado\")\n",
    "plt.show()\n",
    "result2 = np.where(arr_val2 == np.amax(arr_val2))\n",
    "print(\"El numero de estimadores con mejor resultado para Bagging No Regularizado es\",result2[0]*10+1)\n",
    "print(\"El accuracy maximo usando Bagging No regularizado es de\",max(arr_val2))"
   ]
  },
  {
   "cell_type": "code",
   "execution_count": 8,
   "metadata": {},
   "outputs": [
    {
     "data": {
      "image/png": "[encoded data removed]",
      "text/plain": [
       "<Figure size 432x288 with 1 Axes>"
      ]
     },
     "metadata": {
      "needs_background": "light"
     },
     "output_type": "display_data"
    },
    {
     "name": "stdout",
     "output_type": "stream",
     "text": [
      "El numero de estimadores con mejor resultado para RandomForest Regularizado es [21]\n",
      "El accuracy maximo usando RandomForest Regularizado es de 0.9064874342489772\n"
     ]
    },
    {
     "data": {
      "image/png": "[encoded data removed]",
      "text/plain": [
       "<Figure size 432x288 with 1 Axes>"
      ]
     },
     "metadata": {
      "needs_background": "light"
     },
     "output_type": "display_data"
    },
    {
     "name": "stdout",
     "output_type": "stream",
     "text": [
      "El numero de estimadores con mejor resultado para RandomForest No Regularizado es [31 41]\n",
      "El accuracy maximo usando RandomForest No regularizado es de 0.9105786090005844\n"
     ]
    }
   ],
   "source": [
    "n_estim = np.arange(start=1, stop=100, step=10)\n",
    "arr_val = []\n",
    "arr_val2 = []\n",
    "for i in n_estim:\n",
    "    model_r = RandomForestClassifier(n_estimators = i, n_jobs = -1,max_depth=80,min_samples_leaf=1,random_state = 0)\n",
    "    model_r.fit(features_train,Y_train)\n",
    "    y_val_hat = model_r.predict(features_val)\n",
    "    acc_val=accuracy_score(Y_val,y_val_hat)\n",
    "    arr_val.append(acc_val)\n",
    "    #print(acc_val)\n",
    "    model_unr = RandomForestClassifier(n_estimators = i, n_jobs = -1, random_state = 0)\n",
    "    model_unr.fit(features_train,Y_train)\n",
    "    y_val2_hat = model_unr.predict(features_val)\n",
    "    acc_val2=accuracy_score(Y_val,y_val2_hat)\n",
    "    #print(acc_val2)\n",
    "    arr_val2.append(acc_val2)\n",
    "\n",
    "import matplotlib.pyplot as plt\n",
    "plt.plot(n_estim,arr_val, c= 'b', label='Validation')\n",
    "plt.legend()\n",
    "plt.title(\"Regularizado\")\n",
    "plt.show()\n",
    "result = np.where(arr_val == np.amax(arr_val))\n",
    "print(\"El numero de estimadores con mejor resultado para RandomForest Regularizado es\",result[0]*10+1)\n",
    "print(\"El accuracy maximo usando RandomForest Regularizado es de\",max(arr_val))\n",
    "\n",
    "plt.plot(n_estim,arr_val2, c= 'b', label='Validation')\n",
    "plt.legend()\n",
    "plt.title(\"No regularizado\")\n",
    "plt.show()\n",
    "result2 = np.where(arr_val2 == np.amax(arr_val2))\n",
    "print(\"El numero de estimadores con mejor resultado para RandomForest No Regularizado es\",result2[0]*10+1)\n",
    "print(\"El accuracy maximo usando RandomForest No regularizado es de\",max(arr_val2))"
   ]
  },
  {
   "cell_type": "code",
   "execution_count": 9,
   "metadata": {},
   "outputs": [
    {
     "name": "stdout",
     "output_type": "stream",
     "text": [
      "[0.8977206312098188, 0.8977206312098188, 0.8977206312098188, 0.8977206312098188, 0.9088252483927528, 0.9129164231443601, 0.9129164231443601, 0.9129164231443601]\n"
     ]
    }
   ],
   "source": [
    "Cs = [10**i for i in np.arange(-4,4,dtype=float)]\n",
    "SVM_accu=[]\n",
    "for i in Cs:\n",
    "    model= SVM()\n",
    "    model.set_params(C=i,kernel='rbf') #try rbf and linear at least\n",
    "    model.fit(features_train,Y_train)\n",
    "    Y_val_hat = model.predict(features_val)\n",
    "    accu = accuracy_score(Y_val,Y_val_hat)\n",
    "    SVM_accu.append(accu)\n",
    "print(SVM_accu)"
   ]
  },
  {
   "cell_type": "markdown",
   "metadata": {},
   "source": [
    "Al usar SVM para clasificación con parametros de C = 10 y kernel RBF se obtiene la mejor acuraccy de este modelo, con un valor de 0,913 aproximadamente."
   ]
  },
  {
   "cell_type": "code",
   "execution_count": 11,
   "metadata": {},
   "outputs": [],
   "source": [
    "X_test = df_test.tweet_content\n",
    "X = df.tweet_content \n",
    "Y = df.harassment\n",
    "test_tweets_final = [tweets for tweets in X_test]\n",
    "train_tweets_final = [tweets for tweets in X]\n",
    "vectorizer1_final = CountVectorizer(ngram_range=(1, 1), binary=False)\n",
    "vectorizer1_final.fit(train_tweets_final)\n",
    "features_train_final = vectorizer1_final.transform(train_tweets_final)\n",
    "features_test_final = vectorizer1_final.transform(test_tweets_final)\n",
    "\n",
    "model_r_final = BaggingClassifier(base_estimator = Tree(max_depth=13,min_samples_split=2,min_samples_leaf=1), n_estimators = 61, n_jobs = -1, random_state = 0)\n",
    "model_r_final.fit(features_train_final,Y)\n",
    "y_pred = model_r_final.predict(features_test_final)\n",
    "df_aux = pd.DataFrame()\n",
    "df_aux[\"id\"] = np.arange(1, 1+y_pred.shape[0])\n",
    "df_aux[\"harassment\"] = y_pred.astype('int')\n",
    "df_aux.to_csv(\"test_estimation.csv\", index=False)"
   ]
  },
  {
   "cell_type": "markdown",
   "metadata": {},
   "source": [
    "Se utiliza el mejor modelo encontrado para poder predecir el harassment de los tweets del archivo \"Test_input\". Para esto, se utiliza todo el archivo \"Train_data\" como conjunto de entrenamiento."
   ]
  },
  {
   "cell_type": "markdown",
   "metadata": {},
   "source": [
    "<a id=\"refs\"></a>\n",
    "## Referencias\n",
    "[1] https://scikit-learn.org/stable/modules/ensemble.html  \n",
    "[2] https://scikit-learn.org/stable/modules/tree.html  \n",
    "[3] http://scikit-learn.org/stable/modules/generated/sklearn.metrics.f1_score.html  \n",
    "[4] https://towardsdatascience.com/methods-for-dealing-with-imbalanced-data-5b761be45a18"
   ]
  }
 ],
 "metadata": {
  "kernelspec": {
   "display_name": "Python 3",
   "language": "python",
   "name": "python3"
  },
  "language_info": {
   "codemirror_mode": {
    "name": "ipython",
    "version": 3
   },
   "file_extension": ".py",
   "mimetype": "text/x-python",
   "name": "python",
   "nbconvert_exporter": "python",
   "pygments_lexer": "ipython3",
   "version": "3.7.6"
  }
 },
 "nbformat": 4,
 "nbformat_minor": 2
}
